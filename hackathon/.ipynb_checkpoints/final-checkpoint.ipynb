{
 "cells": [
  {
   "cell_type": "code",
   "execution_count": null,
   "metadata": {},
   "outputs": [],
   "source": [
    "import pandas as pd\n",
    "import seaborn as sns\n",
    "import matplotlib.pyplot as plt\n",
    "import numpy as np\n",
    "from sklearn.preprocessing import OneHotEncoder"
   ]
  },
  {
   "cell_type": "code",
   "execution_count": null,
   "metadata": {},
   "outputs": [],
   "source": [
    "df_features = pd.read_csv('training_set_features.csv')\n",
    "df_test_features = pd.read_csv('test_set_features.csv')\n",
    "df_labels = pd.read_csv('training_set_labels.csv')\n",
    "df_features.head()"
   ]
  },
  {
   "cell_type": "code",
   "execution_count": null,
   "metadata": {},
   "outputs": [],
   "source": [
    "df_features.isnull().sum()"
   ]
  },
  {
   "cell_type": "code",
   "execution_count": null,
   "metadata": {},
   "outputs": [],
   "source": [
    "df_features.info()"
   ]
  },
  {
   "cell_type": "code",
   "execution_count": null,
   "metadata": {},
   "outputs": [],
   "source": [
    "sns.heatmap(df_features.isnull())"
   ]
  },
  {
   "cell_type": "code",
   "execution_count": null,
   "metadata": {},
   "outputs": [],
   "source": [
    "sns.countplot(hue='rent_or_own', x='income_poverty', data=df_features)"
   ]
  },
  {
   "cell_type": "code",
   "execution_count": null,
   "metadata": {},
   "outputs": [],
   "source": [
    "sns.barplot(x='education', hue='income_poverty', data=df_features, palette='magma')"
   ]
  },
  {
   "cell_type": "code",
   "execution_count": null,
   "metadata": {},
   "outputs": [],
   "source": [
    "sns.countplot(x='age_group', hue='marital_status', data=df_features)"
   ]
  },
  {
   "cell_type": "code",
   "execution_count": null,
   "metadata": {},
   "outputs": [],
   "source": [
    "df_features.columns"
   ]
  },
  {
   "cell_type": "code",
   "execution_count": null,
   "metadata": {},
   "outputs": [],
   "source": [
    "\n",
    "\n",
    "def fill_missing_values(df):\n",
    "    df['census_msa'].fillna('null', inplace=True)\n",
    "    df['employment_status'].fillna('unemployed', inplace=True)\n",
    "\n",
    "    mode_income = df['income_poverty'].mode()[0]\n",
    "    df['income_poverty'].fillna(mode_income, inplace=True)\n",
    "\n",
    "    df['rent_or_own'] = np.where(\n",
    "        df['rent_or_own'].isna(),\n",
    "        np.where(df['income_poverty'].isin(['<= $75,000, Above Poverty', '> $75,000']), 'Own', 'Rent'),\n",
    "        df['rent_or_own']\n",
    "    )\n",
    "    \n",
    "    df['marital_status'] = np.where(\n",
    "        df['marital_status'].isna(),\n",
    "        np.where(df['age_group'].isin(['65+ Years', '18 - 34 Years']), 'Married', 'Not Married'),\n",
    "        df['marital_status']\n",
    "    )\n",
    "    \n",
    "    df['education'] = np.where(\n",
    "        df['education'].isna(),\n",
    "        np.where(df['income_poverty'].isin(['<= $75,000, Above Poverty', '> $75,000']), 'College Graduate', '12 Years'),\n",
    "        df['education']\n",
    "    )\n",
    "    mode_columns = [\n",
    "        'xyz_concern', 'xyz_knowledge', 'behavioral_antiviral_meds', 'behavioral_avoidance',\n",
    "        'behavioral_face_mask', 'behavioral_wash_hands', 'behavioral_large_gatherings',\n",
    "        'behavioral_outside_home', 'behavioral_touch_face', 'doctor_recc_xyz', 'doctor_recc_seasonal',\n",
    "        'chronic_med_condition', 'child_under_6_months', 'health_worker', 'opinion_xyz_vacc_effective',\n",
    "        'opinion_xyz_risk', 'opinion_xyz_sick_from_vacc', 'opinion_seas_vacc_effective',\n",
    "        'opinion_seas_risk', 'opinion_seas_sick_from_vacc'\n",
    "    ]\n",
    "\n",
    "    for col in mode_columns:\n",
    "        if col in df.columns:\n",
    "            df[col].fillna(df[col].mode()[0], inplace=True)\n",
    "\n",
    "    # Fill missing values with 0 for household columns\n",
    "    zero_columns = ['household_adults', 'household_children']\n",
    "    df[zero_columns] = df[zero_columns].fillna(0)\n",
    "    return df\n",
    "\n",
    "def drop_unnecessary_columns(df):\n",
    "    # Drop unnecessary columns from the dataframe.\n",
    "    columns_to_drop = ['employment_industry', 'employment_occupation', 'hhs_geo_region', 'health_insurance', 'respondent_id']\n",
    "    df.drop(columns=columns_to_drop, axis=1, inplace=True)\n",
    "    return df\n",
    "\n",
    "def preprocess_features(df):\n",
    "    df = df.copy()\n",
    "    df = drop_unnecessary_columns(df)\n",
    "    df = fill_missing_values(df)\n",
    "\n",
    "    categorical_cols = df.select_dtypes(include=['object']).columns\n",
    "    numeric_cols = df.select_dtypes(exclude=['object']).columns\n",
    "\n",
    "    encoder = OneHotEncoder()\n",
    "    encoded_data = encoder.fit_transform(df[categorical_cols])\n",
    "    encoded_df = pd.DataFrame(encoded_data.toarray(), columns=encoder.get_feature_names_out(categorical_cols))\n",
    "\n",
    "    preprocessed_df = pd.concat([encoded_df, df[numeric_cols]], axis=1)\n",
    "    return preprocessed_df\n"
   ]
  },
  {
   "cell_type": "code",
   "execution_count": null,
   "metadata": {},
   "outputs": [],
   "source": [
    "df_features.info()"
   ]
  },
  {
   "cell_type": "code",
   "execution_count": null,
   "metadata": {},
   "outputs": [],
   "source": [
    "df_features = preprocess_features(df_features)\n",
    "df_test_features = preprocess_features(df_test_features)"
   ]
  },
  {
   "cell_type": "code",
   "execution_count": null,
   "metadata": {},
   "outputs": [],
   "source": [
    "df_features.select_dtypes(include=['object']).columns"
   ]
  },
  {
   "cell_type": "markdown",
   "metadata": {},
   "source": []
  },
  {
   "cell_type": "code",
   "execution_count": null,
   "metadata": {},
   "outputs": [],
   "source": [
    "df_features.head()"
   ]
  },
  {
   "cell_type": "code",
   "execution_count": null,
   "metadata": {},
   "outputs": [],
   "source": [
    "y_train_xyz = df_labels['xyz_vaccine']\n",
    "y_train_xyz = y_train_xyz\n",
    "y_train_seasonal = df_labels['seasonal_vaccine']"
   ]
  },
  {
   "cell_type": "code",
   "execution_count": null,
   "metadata": {},
   "outputs": [],
   "source": [
    "import tensorflow as tf\n",
    "from tensorflow.keras.callbacks import EarlyStopping"
   ]
  },
  {
   "cell_type": "code",
   "execution_count": null,
   "metadata": {},
   "outputs": [],
   "source": [
    "model = tf.keras.models.Sequential([\n",
    "    tf.keras.layers.Dense(128, activation='relu', input_shape=(df_features.shape[1],)),\n",
    "    tf.keras.layers.BatchNormalization(),\n",
    "    tf.keras.layers.Dropout(0.3),\n",
    "    tf.keras.layers.Dense(64, activation='relu'),\n",
    "    tf.keras.layers.BatchNormalization(),\n",
    "    tf.keras.layers.Dropout(0.3),\n",
    "    tf.keras.layers.Dense(1, activation='sigmoid')\n",
    "])\n",
    "\n",
    "model.compile(optimizer='adam', loss='binary_crossentropy', metrics=['accuracy'])\n",
    "early_stopping = EarlyStopping(monitor='val_loss', patience=10, restore_best_weights=True)\n",
    "# Training xyz_vaccine model\n",
    "history_xyz = model.fit(\n",
    "    df_features, y_train_xyz, \n",
    "    validation_data=(df_features, y_train_xyz),\n",
    "    epochs=100, \n",
    "    batch_size=32, \n",
    "    callbacks=[EarlyStopping(monitor='val_loss', patience=10, restore_best_weights=True)]\n",
    ")\n"
   ]
  },
  {
   "cell_type": "code",
   "execution_count": null,
   "metadata": {},
   "outputs": [],
   "source": [
    "x_train.info()"
   ]
  },
  {
   "cell_type": "code",
   "execution_count": null,
   "metadata": {},
   "outputs": [],
   "source": [
    "y_train.shape"
   ]
  },
  {
   "cell_type": "code",
   "execution_count": null,
   "metadata": {},
   "outputs": [],
   "source": [
    "df_features.dtypes"
   ]
  },
  {
   "cell_type": "code",
   "execution_count": null,
   "metadata": {},
   "outputs": [],
   "source": [
    "print(np.isnan(x_train).any())\n",
    "print(np.isnan(y_train).any())"
   ]
  },
  {
   "cell_type": "code",
   "execution_count": null,
   "metadata": {},
   "outputs": [],
   "source": []
  },
  {
   "cell_type": "code",
   "execution_count": null,
   "metadata": {},
   "outputs": [],
   "source": []
  },
  {
   "cell_type": "code",
   "execution_count": null,
   "metadata": {},
   "outputs": [],
   "source": []
  },
  {
   "cell_type": "code",
   "execution_count": null,
   "metadata": {},
   "outputs": [],
   "source": []
  },
  {
   "cell_type": "code",
   "execution_count": null,
   "metadata": {},
   "outputs": [],
   "source": []
  }
 ],
 "metadata": {
  "kernelspec": {
   "display_name": "Python 3 (ipykernel)",
   "language": "python",
   "name": "python3"
  },
  "language_info": {
   "codemirror_mode": {
    "name": "ipython",
    "version": 3
   },
   "file_extension": ".py",
   "mimetype": "text/x-python",
   "name": "python",
   "nbconvert_exporter": "python",
   "pygments_lexer": "ipython3",
   "version": "3.10.12"
  }
 },
 "nbformat": 4,
 "nbformat_minor": 4
}
